{
 "cells": [
  {
   "cell_type": "code",
   "execution_count": 1,
   "id": "55cc7478",
   "metadata": {},
   "outputs": [],
   "source": [
    "#structure of inception #\n",
    "import torch\n",
    "from torch import nn\n",
    "from torch.nn import functional as F\n",
    "\n",
    "\n",
    "class Inception(nn.Module):\n",
    "    def __init__(self, in_channels, c1, c2, c3, c4, **kwargs): \n",
    "        super(Inception, self).__init__(**kwargs)\n",
    "        self.p1_1 = nn.Conv2d(in_channels, c1, kernel_size=1)  \n",
    "        self.p2_1 = nn.Conv2d(in_channels, c2[0], kernel_size=1)\n",
    "        self.p2_2 = nn.Conv2d(c2[0], c2[1], kernel_size=3, padding=1)\n",
    "        self.p3_1 = nn.Conv2d(in_channels, c3[0], kernel_size=1)\n",
    "        self.p3_2 = nn.Conv2d(c3[0], c3[1], kernel_size=5, padding=2)\n",
    "        self.p4_1 = nn.MaxPool2d(kernel_size=3, stride=1, padding=1)\n",
    "        self.p4_2 = nn.Conv2d(in_channels, c4, kernel_size=1)\n",
    "\n",
    "    def forward(self, x):\n",
    "        p1 = F.relu(self.p1_1(x))\n",
    "        p2 = F.relu(self.p2_2(F.relu(self.p2_1(x))))\n",
    "        p3 = F.relu(self.p3_2(F.relu(self.p3_1(x))))\n",
    "        p4 = F.relu(self.p4_2(self.p4_1(x)))\n",
    "        return torch.cat((p1, p2, p3, p4), dim=1)"
   ]
  },
  {
   "cell_type": "code",
   "execution_count": 2,
   "id": "1d14f895",
   "metadata": {},
   "outputs": [],
   "source": [
    "#structure of Googlenet#\n",
    "b1 = nn.Sequential(nn.Conv2d(1, 64, kernel_size=7, stride=2, padding=3),\n",
    "                   nn.ReLU(),\n",
    "                   nn.MaxPool2d(kernel_size=3, stride=2, padding=1))\n",
    "b2 = nn.Sequential(nn.Conv2d(64, 64, kernel_size=1),\n",
    "                   nn.ReLU(),\n",
    "                   nn.Conv2d(64, 192, kernel_size=3, padding=1),\n",
    "                   nn.ReLU(),\n",
    "                   nn.MaxPool2d(kernel_size=3, stride=2, padding=1))\n",
    "b3 = nn.Sequential(Inception(192, 64, (96, 128), (16, 32), 32), \n",
    "                   Inception(256, 128, (128, 192), (32, 96), 64),\n",
    "                   nn.MaxPool2d(kernel_size=3, stride=2, padding=1))\n",
    "b4 = nn.Sequential(Inception(480, 192, (96, 208), (16, 48), 64),\n",
    "                   Inception(512, 160, (112, 224), (24, 64), 64),\n",
    "                   Inception(512, 128, (128, 256), (24, 64), 64),\n",
    "                   Inception(512, 112, (144, 288), (32, 64), 64),\n",
    "                   Inception(528, 256, (160, 320), (32, 128), 128),\n",
    "                   nn.MaxPool2d(kernel_size=3, stride=2, padding=1))\n",
    "b5 = nn.Sequential(Inception(832, 256, (160, 320), (32, 128), 128),\n",
    "                   Inception(832, 384, (192, 384), (48, 128), 128),\n",
    "                   nn.AdaptiveAvgPool2d((1,1)),\n",
    "                   nn.Flatten())\n",
    "net = nn.Sequential(b1, b2, b3, b4, b5, nn.Linear(1024, 10))\n"
   ]
  },
  {
   "cell_type": "code",
   "execution_count": 3,
   "id": "4599ad5b",
   "metadata": {},
   "outputs": [
    {
     "name": "stderr",
     "output_type": "stream",
     "text": [
      "/usr/local/lib/python3.6/dist-packages/torchvision/datasets/mnist.py:58: UserWarning: train_data has been renamed data\n",
      "  warnings.warn(\"train_data has been renamed data\")\n",
      "/usr/local/lib/python3.6/dist-packages/torchvision/datasets/mnist.py:53: UserWarning: test_labels has been renamed targets\n",
      "  warnings.warn(\"test_labels has been renamed targets\")\n"
     ]
    }
   ],
   "source": [
    "#download mnist and #\n",
    "import torch\n",
    "import torch.nn as nn\n",
    "import torch.utils.data as Data\n",
    "import torchvision\n",
    "import matplotlib.pyplot as plt\n",
    "import os\n",
    "import cv2\n",
    "\n",
    "EPOCH = 10  \n",
    "BATCH_SIZE = 200\n",
    "LR = 0.001  \n",
    "\n",
    "\n",
    "train_data = torchvision.datasets.MNIST(\n",
    "    root='./data/',  \n",
    "    train=True,  \n",
    "    transform=torchvision.transforms.ToTensor(),  \n",
    "    download=True,  \n",
    ")\n",
    "\n",
    "train_loader = Data.DataLoader(\n",
    "    dataset=train_data,\n",
    "    batch_size=BATCH_SIZE,\n",
    "    shuffle=True  \n",
    ")\n",
    "\n",
    "test_data = torchvision.datasets.MNIST(\n",
    "    root='./data/',\n",
    "    train=False\n",
    ")\n",
    "\n",
    "test_x = torch.unsqueeze(test_data.train_data, dim=1).type(torch.FloatTensor)/255\n",
    "test_y = test_data.test_labels"
   ]
  },
  {
   "cell_type": "code",
   "execution_count": 4,
   "id": "265441d5",
   "metadata": {},
   "outputs": [
    {
     "name": "stdout",
     "output_type": "stream",
     "text": [
      "Epoch:  0 | train loss: 2.3050 | test accuracy: 0.11\n",
      "Epoch:  0 | train loss: 2.3031 | test accuracy: 0.11\n",
      "Epoch:  0 | train loss: 2.1962 | test accuracy: 0.21\n",
      "Epoch:  0 | train loss: 1.6170 | test accuracy: 0.31\n",
      "Epoch:  0 | train loss: 1.2167 | test accuracy: 0.41\n",
      "Epoch:  0 | train loss: 1.2891 | test accuracy: 0.55\n",
      "Epoch 1 of 10 with 123.96 s\n",
      "Epoch:  1 | train loss: 1.0246 | test accuracy: 0.57\n",
      "Epoch:  1 | train loss: 0.7098 | test accuracy: 0.76\n",
      "Epoch:  1 | train loss: 0.7870 | test accuracy: 0.54\n",
      "Epoch:  1 | train loss: 0.6788 | test accuracy: 0.81\n",
      "Epoch:  1 | train loss: 0.6045 | test accuracy: 0.84\n",
      "Epoch:  1 | train loss: 0.4884 | test accuracy: 0.90\n",
      "Epoch 2 of 10 with 121.75 s\n",
      "Epoch:  2 | train loss: 0.4499 | test accuracy: 0.86\n",
      "Epoch:  2 | train loss: 0.3777 | test accuracy: 0.89\n",
      "Epoch:  2 | train loss: 0.4066 | test accuracy: 0.88\n",
      "Epoch:  2 | train loss: 0.4720 | test accuracy: 0.93\n",
      "Epoch:  2 | train loss: 0.5278 | test accuracy: 0.83\n",
      "Epoch 3 of 10 with 129.38 s\n",
      "Epoch:  3 | train loss: 0.3211 | test accuracy: 0.93\n",
      "Epoch:  3 | train loss: 0.3273 | test accuracy: 0.91\n",
      "Epoch:  3 | train loss: 0.3599 | test accuracy: 0.95\n",
      "Epoch:  3 | train loss: 0.2462 | test accuracy: 0.95\n",
      "Epoch:  3 | train loss: 0.5050 | test accuracy: 0.92\n",
      "Epoch:  3 | train loss: 0.2927 | test accuracy: 0.93\n",
      "Epoch 4 of 10 with 128.14 s\n",
      "Epoch:  4 | train loss: 0.1572 | test accuracy: 0.95\n",
      "Epoch:  4 | train loss: 0.4207 | test accuracy: 0.92\n",
      "Epoch:  4 | train loss: 0.2828 | test accuracy: 0.92\n",
      "Epoch:  4 | train loss: 0.3184 | test accuracy: 0.94\n",
      "Epoch:  4 | train loss: 0.1657 | test accuracy: 0.96\n",
      "Epoch:  4 | train loss: 0.1968 | test accuracy: 0.96\n",
      "Epoch 5 of 10 with 128.07 s\n",
      "Epoch:  5 | train loss: 0.0957 | test accuracy: 0.96\n",
      "Epoch:  5 | train loss: 0.3054 | test accuracy: 0.93\n",
      "Epoch:  5 | train loss: 0.2494 | test accuracy: 0.96\n",
      "Epoch:  5 | train loss: 0.3634 | test accuracy: 0.93\n",
      "Epoch:  5 | train loss: 0.2704 | test accuracy: 0.94\n",
      "Epoch:  5 | train loss: 0.1966 | test accuracy: 0.94\n",
      "Epoch 6 of 10 with 127.97 s\n",
      "Epoch:  6 | train loss: 0.5564 | test accuracy: 0.86\n",
      "Epoch:  6 | train loss: 0.1888 | test accuracy: 0.96\n",
      "Epoch:  6 | train loss: 0.0752 | test accuracy: 0.96\n",
      "Epoch:  6 | train loss: 0.2292 | test accuracy: 0.94\n",
      "Epoch:  6 | train loss: 0.1796 | test accuracy: 0.95\n",
      "Epoch:  6 | train loss: 0.1935 | test accuracy: 0.96\n",
      "Epoch 7 of 10 with 131.38 s\n",
      "Epoch:  7 | train loss: 0.2943 | test accuracy: 0.94\n",
      "Epoch:  7 | train loss: 0.1410 | test accuracy: 0.97\n",
      "Epoch:  7 | train loss: 0.1162 | test accuracy: 0.96\n",
      "Epoch:  7 | train loss: 0.1579 | test accuracy: 0.97\n",
      "Epoch:  7 | train loss: 0.0546 | test accuracy: 0.98\n",
      "Epoch:  7 | train loss: 0.0757 | test accuracy: 0.98\n",
      "Epoch 8 of 10 with 128.07 s\n",
      "Epoch:  8 | train loss: 0.0269 | test accuracy: 0.98\n",
      "Epoch:  8 | train loss: 0.0280 | test accuracy: 0.98\n",
      "Epoch:  8 | train loss: 0.0796 | test accuracy: 0.98\n",
      "Epoch:  8 | train loss: 0.0560 | test accuracy: 0.98\n",
      "Epoch:  8 | train loss: 0.0877 | test accuracy: 0.98\n",
      "Epoch:  8 | train loss: 0.0420 | test accuracy: 0.98\n",
      "Epoch 9 of 10 with 127.20 s\n",
      "Epoch:  9 | train loss: 0.0498 | test accuracy: 0.98\n",
      "Epoch:  9 | train loss: 0.0725 | test accuracy: 0.99\n",
      "Epoch:  9 | train loss: 0.0202 | test accuracy: 0.98\n",
      "Epoch:  9 | train loss: 0.3483 | test accuracy: 0.93\n",
      "Epoch:  9 | train loss: 0.1208 | test accuracy: 0.97\n",
      "Epoch:  9 | train loss: 0.0467 | test accuracy: 0.98\n",
      "Epoch 10 of 10 with 131.91 s\n"
     ]
    }
   ],
   "source": [
    "import time\n",
    "\n",
    "print_every_batch=50\n",
    "\n",
    "optimizer = torch.optim.Adam(net.parameters(), lr=LR)\n",
    "\n",
    "loss_func = nn.CrossEntropyLoss()  \n",
    "\n",
    "list_lost=[]\n",
    "list_accuracy=[]\n",
    "list_epoch_time=[]\n",
    "\n",
    "for epoch in range(EPOCH):\n",
    "    epoch_start_time = time.time()\n",
    "    for batch_id, (batch_x, batch_y) in enumerate(train_loader):  \n",
    "        output = net(batch_x)  \n",
    "        loss = loss_func(output, batch_y)  \n",
    "        optimizer.zero_grad()  \n",
    "        loss.backward()  \n",
    "        optimizer.step()  \n",
    "\n",
    "        \n",
    "        if batch_id % print_every_batch == 0:\n",
    "            test_output = net(test_x)\n",
    "            pred_y = torch.max(test_output, 1)[1].data.numpy()\n",
    "            accuracy = float((pred_y == test_y.data.numpy()).astype(int).sum()) / float(test_y.size(0))\n",
    "            print('Epoch: ', epoch, '| train loss: %.4f' % loss.data.numpy(), '| test accuracy: %.2f' % accuracy)\n",
    "            list_lost.append(loss.data.numpy())\n",
    "            list_accuracy.append(accuracy)\n",
    "            \n",
    "    epoch_end_time = time.time()\n",
    "    per_epoch_ptime = epoch_end_time - epoch_start_time\n",
    "\n",
    "    print(\"Epoch %d of %d with %.2f s\" % (epoch + 1, EPOCH, per_epoch_ptime))\n",
    "    list_epoch_time.append(per_epoch_ptime)"
   ]
  },
  {
   "cell_type": "code",
   "execution_count": 5,
   "id": "395f3c35",
   "metadata": {},
   "outputs": [],
   "source": [
    "import numpy as np\n",
    "lost_array=np.array(list_lost)\n",
    "list_accuracy=np.array(list_accuracy)\n",
    "list_epoch_time=np.array(list_epoch_time)"
   ]
  },
  {
   "cell_type": "code",
   "execution_count": 6,
   "id": "1621570e",
   "metadata": {},
   "outputs": [
    {
     "data": {
      "text/plain": [
       "[<matplotlib.lines.Line2D at 0x7fc5e0a4d1d0>]"
      ]
     },
     "execution_count": 6,
     "metadata": {},
     "output_type": "execute_result"
    },
    {
     "data": {
      "image/png": "[encoded data removed]",
      "text/plain": [
       "<Figure size 432x288 with 1 Axes>"
      ]
     },
     "metadata": {
      "needs_background": "light"
     },
     "output_type": "display_data"
    }
   ],
   "source": [
    "plt.plot(np.array(list(range(1,61)))/6,lost_array)"
   ]
  },
  {
   "cell_type": "code",
   "execution_count": 7,
   "id": "4af727e0",
   "metadata": {},
   "outputs": [
    {
     "data": {
      "text/plain": [
       "[<matplotlib.lines.Line2D at 0x7fc5e0b2a8d0>]"
      ]
     },
     "execution_count": 7,
     "metadata": {},
     "output_type": "execute_result"
    },
    {
     "data": {
      "image/png": "[encoded data removed]",
      "text/plain": [
       "<Figure size 432x288 with 1 Axes>"
      ]
     },
     "metadata": {
      "needs_background": "light"
     },
     "output_type": "display_data"
    }
   ],
   "source": [
    "plt.plot(np.array(list(range(1,61)))/6,list_accuracy)"
   ]
  },
  {
   "cell_type": "code",
   "execution_count": 8,
   "id": "a7b41376",
   "metadata": {},
   "outputs": [
    {
     "data": {
      "text/plain": [
       "127.78432106971741"
      ]
     },
     "execution_count": 8,
     "metadata": {},
     "output_type": "execute_result"
    }
   ],
   "source": [
    "sum(list_epoch_time)/10"
   ]
  },
  {
   "cell_type": "code",
   "execution_count": 9,
   "id": "a6efe81a",
   "metadata": {},
   "outputs": [],
   "source": [
    "torch.save(net, \"googlenet.pth\")  "
   ]
  },
  {
   "cell_type": "code",
   "execution_count": 10,
   "id": "946bca95",
   "metadata": {},
   "outputs": [
    {
     "name": "stdout",
     "output_type": "stream",
     "text": [
      "Sequential(\n",
      "  (0): Sequential(\n",
      "    (0): Conv2d(1, 64, kernel_size=(7, 7), stride=(2, 2), padding=(3, 3))\n",
      "    (1): ReLU()\n",
      "    (2): MaxPool2d(kernel_size=3, stride=2, padding=1, dilation=1, ceil_mode=False)\n",
      "  )\n",
      "  (1): Sequential(\n",
      "    (0): Conv2d(64, 64, kernel_size=(1, 1), stride=(1, 1))\n",
      "    (1): ReLU()\n",
      "    (2): Conv2d(64, 192, kernel_size=(3, 3), stride=(1, 1), padding=(1, 1))\n",
      "    (3): ReLU()\n",
      "    (4): MaxPool2d(kernel_size=3, stride=2, padding=1, dilation=1, ceil_mode=False)\n",
      "  )\n",
      "  (2): Sequential(\n",
      "    (0): Inception(\n",
      "      (p1_1): Conv2d(192, 64, kernel_size=(1, 1), stride=(1, 1))\n",
      "      (p2_1): Conv2d(192, 96, kernel_size=(1, 1), stride=(1, 1))\n",
      "      (p2_2): Conv2d(96, 128, kernel_size=(3, 3), stride=(1, 1), padding=(1, 1))\n",
      "      (p3_1): Conv2d(192, 16, kernel_size=(1, 1), stride=(1, 1))\n",
      "      (p3_2): Conv2d(16, 32, kernel_size=(5, 5), stride=(1, 1), padding=(2, 2))\n",
      "      (p4_1): MaxPool2d(kernel_size=3, stride=1, padding=1, dilation=1, ceil_mode=False)\n",
      "      (p4_2): Conv2d(192, 32, kernel_size=(1, 1), stride=(1, 1))\n",
      "    )\n",
      "    (1): Inception(\n",
      "      (p1_1): Conv2d(256, 128, kernel_size=(1, 1), stride=(1, 1))\n",
      "      (p2_1): Conv2d(256, 128, kernel_size=(1, 1), stride=(1, 1))\n",
      "      (p2_2): Conv2d(128, 192, kernel_size=(3, 3), stride=(1, 1), padding=(1, 1))\n",
      "      (p3_1): Conv2d(256, 32, kernel_size=(1, 1), stride=(1, 1))\n",
      "      (p3_2): Conv2d(32, 96, kernel_size=(5, 5), stride=(1, 1), padding=(2, 2))\n",
      "      (p4_1): MaxPool2d(kernel_size=3, stride=1, padding=1, dilation=1, ceil_mode=False)\n",
      "      (p4_2): Conv2d(256, 64, kernel_size=(1, 1), stride=(1, 1))\n",
      "    )\n",
      "    (2): MaxPool2d(kernel_size=3, stride=2, padding=1, dilation=1, ceil_mode=False)\n",
      "  )\n",
      "  (3): Sequential(\n",
      "    (0): Inception(\n",
      "      (p1_1): Conv2d(480, 192, kernel_size=(1, 1), stride=(1, 1))\n",
      "      (p2_1): Conv2d(480, 96, kernel_size=(1, 1), stride=(1, 1))\n",
      "      (p2_2): Conv2d(96, 208, kernel_size=(3, 3), stride=(1, 1), padding=(1, 1))\n",
      "      (p3_1): Conv2d(480, 16, kernel_size=(1, 1), stride=(1, 1))\n",
      "      (p3_2): Conv2d(16, 48, kernel_size=(5, 5), stride=(1, 1), padding=(2, 2))\n",
      "      (p4_1): MaxPool2d(kernel_size=3, stride=1, padding=1, dilation=1, ceil_mode=False)\n",
      "      (p4_2): Conv2d(480, 64, kernel_size=(1, 1), stride=(1, 1))\n",
      "    )\n",
      "    (1): Inception(\n",
      "      (p1_1): Conv2d(512, 160, kernel_size=(1, 1), stride=(1, 1))\n",
      "      (p2_1): Conv2d(512, 112, kernel_size=(1, 1), stride=(1, 1))\n",
      "      (p2_2): Conv2d(112, 224, kernel_size=(3, 3), stride=(1, 1), padding=(1, 1))\n",
      "      (p3_1): Conv2d(512, 24, kernel_size=(1, 1), stride=(1, 1))\n",
      "      (p3_2): Conv2d(24, 64, kernel_size=(5, 5), stride=(1, 1), padding=(2, 2))\n",
      "      (p4_1): MaxPool2d(kernel_size=3, stride=1, padding=1, dilation=1, ceil_mode=False)\n",
      "      (p4_2): Conv2d(512, 64, kernel_size=(1, 1), stride=(1, 1))\n",
      "    )\n",
      "    (2): Inception(\n",
      "      (p1_1): Conv2d(512, 128, kernel_size=(1, 1), stride=(1, 1))\n",
      "      (p2_1): Conv2d(512, 128, kernel_size=(1, 1), stride=(1, 1))\n",
      "      (p2_2): Conv2d(128, 256, kernel_size=(3, 3), stride=(1, 1), padding=(1, 1))\n",
      "      (p3_1): Conv2d(512, 24, kernel_size=(1, 1), stride=(1, 1))\n",
      "      (p3_2): Conv2d(24, 64, kernel_size=(5, 5), stride=(1, 1), padding=(2, 2))\n",
      "      (p4_1): MaxPool2d(kernel_size=3, stride=1, padding=1, dilation=1, ceil_mode=False)\n",
      "      (p4_2): Conv2d(512, 64, kernel_size=(1, 1), stride=(1, 1))\n",
      "    )\n",
      "    (3): Inception(\n",
      "      (p1_1): Conv2d(512, 112, kernel_size=(1, 1), stride=(1, 1))\n",
      "      (p2_1): Conv2d(512, 144, kernel_size=(1, 1), stride=(1, 1))\n",
      "      (p2_2): Conv2d(144, 288, kernel_size=(3, 3), stride=(1, 1), padding=(1, 1))\n",
      "      (p3_1): Conv2d(512, 32, kernel_size=(1, 1), stride=(1, 1))\n",
      "      (p3_2): Conv2d(32, 64, kernel_size=(5, 5), stride=(1, 1), padding=(2, 2))\n",
      "      (p4_1): MaxPool2d(kernel_size=3, stride=1, padding=1, dilation=1, ceil_mode=False)\n",
      "      (p4_2): Conv2d(512, 64, kernel_size=(1, 1), stride=(1, 1))\n",
      "    )\n",
      "    (4): Inception(\n",
      "      (p1_1): Conv2d(528, 256, kernel_size=(1, 1), stride=(1, 1))\n",
      "      (p2_1): Conv2d(528, 160, kernel_size=(1, 1), stride=(1, 1))\n",
      "      (p2_2): Conv2d(160, 320, kernel_size=(3, 3), stride=(1, 1), padding=(1, 1))\n",
      "      (p3_1): Conv2d(528, 32, kernel_size=(1, 1), stride=(1, 1))\n",
      "      (p3_2): Conv2d(32, 128, kernel_size=(5, 5), stride=(1, 1), padding=(2, 2))\n",
      "      (p4_1): MaxPool2d(kernel_size=3, stride=1, padding=1, dilation=1, ceil_mode=False)\n",
      "      (p4_2): Conv2d(528, 128, kernel_size=(1, 1), stride=(1, 1))\n",
      "    )\n",
      "    (5): MaxPool2d(kernel_size=3, stride=2, padding=1, dilation=1, ceil_mode=False)\n",
      "  )\n",
      "  (4): Sequential(\n",
      "    (0): Inception(\n",
      "      (p1_1): Conv2d(832, 256, kernel_size=(1, 1), stride=(1, 1))\n",
      "      (p2_1): Conv2d(832, 160, kernel_size=(1, 1), stride=(1, 1))\n",
      "      (p2_2): Conv2d(160, 320, kernel_size=(3, 3), stride=(1, 1), padding=(1, 1))\n",
      "      (p3_1): Conv2d(832, 32, kernel_size=(1, 1), stride=(1, 1))\n",
      "      (p3_2): Conv2d(32, 128, kernel_size=(5, 5), stride=(1, 1), padding=(2, 2))\n",
      "      (p4_1): MaxPool2d(kernel_size=3, stride=1, padding=1, dilation=1, ceil_mode=False)\n",
      "      (p4_2): Conv2d(832, 128, kernel_size=(1, 1), stride=(1, 1))\n",
      "    )\n",
      "    (1): Inception(\n",
      "      (p1_1): Conv2d(832, 384, kernel_size=(1, 1), stride=(1, 1))\n",
      "      (p2_1): Conv2d(832, 192, kernel_size=(1, 1), stride=(1, 1))\n",
      "      (p2_2): Conv2d(192, 384, kernel_size=(3, 3), stride=(1, 1), padding=(1, 1))\n",
      "      (p3_1): Conv2d(832, 48, kernel_size=(1, 1), stride=(1, 1))\n",
      "      (p3_2): Conv2d(48, 128, kernel_size=(5, 5), stride=(1, 1), padding=(2, 2))\n",
      "      (p4_1): MaxPool2d(kernel_size=3, stride=1, padding=1, dilation=1, ceil_mode=False)\n",
      "      (p4_2): Conv2d(832, 128, kernel_size=(1, 1), stride=(1, 1))\n",
      "    )\n",
      "    (2): AdaptiveAvgPool2d(output_size=(1, 1))\n",
      "    (3): Flatten(start_dim=1, end_dim=-1)\n",
      "  )\n",
      "  (5): Linear(in_features=1024, out_features=10, bias=True)\n",
      ")\n"
     ]
    }
   ],
   "source": [
    "model = torch.load(\"googlenet.pth\")\n",
    "print(model)"
   ]
  },
  {
   "cell_type": "code",
   "execution_count": 11,
   "id": "aab000b2",
   "metadata": {},
   "outputs": [
    {
     "name": "stdout",
     "output_type": "stream",
     "text": [
      "Epoch:  9 | train loss: 0.1047 | test accuracy: 0.98\n"
     ]
    }
   ],
   "source": [
    "test_output = model(test_x)\n",
    "pred_y = torch.max(test_output, 1)[1].data.numpy()\n",
    "accuracy = float((pred_y == test_y.data.numpy()).astype(int).sum()) / float(test_y.size(0))\n",
    "print('Epoch: ', epoch, '| train loss: %.4f' % loss.data.numpy(), '| test accuracy: %.2f' % accuracy)"
   ]
  },
  {
   "cell_type": "code",
   "execution_count": 12,
   "id": "6ce2f45d",
   "metadata": {},
   "outputs": [],
   "source": [
    "pred_y=pred_y.tolist()\n",
    "test_y=test_y.tolist()"
   ]
  },
  {
   "cell_type": "code",
   "execution_count": 13,
   "id": "c2ffc662",
   "metadata": {},
   "outputs": [
    {
     "name": "stdout",
     "output_type": "stream",
     "text": [
      "43\n",
      "151\n",
      "158\n",
      "195\n",
      "241\n",
      "259\n",
      "266\n",
      "324\n",
      "326\n",
      "412\n",
      "445\n",
      "448\n",
      "479\n",
      "495\n",
      "582\n",
      "591\n",
      "625\n",
      "646\n",
      "659\n",
      "691\n",
      "716\n",
      "726\n",
      "740\n",
      "791\n",
      "797\n",
      "829\n",
      "939\n",
      "951\n",
      "958\n"
     ]
    }
   ],
   "source": [
    "for i in range(1000):\n",
    "    \n",
    "    if pred_y[i]!=test_y[i]:\n",
    "        print(i)"
   ]
  },
  {
   "cell_type": "code",
   "execution_count": 14,
   "id": "ac31c294",
   "metadata": {},
   "outputs": [
    {
     "data": {
      "text/plain": [
       "<matplotlib.image.AxesImage at 0x7fc5c96d9ac8>"
      ]
     },
     "execution_count": 14,
     "metadata": {},
     "output_type": "execute_result"
    },
    {
     "data": {
      "image/png": "[encoded data removed]",
      "text/plain": [
       "<Figure size 432x288 with 1 Axes>"
      ]
     },
     "metadata": {
      "needs_background": "light"
     },
     "output_type": "display_data"
    }
   ],
   "source": [
    "plt.imshow(test_x[151,0,:,:],cmap='gray')"
   ]
  },
  {
   "cell_type": "code",
   "execution_count": 15,
   "id": "7e4da3b6",
   "metadata": {},
   "outputs": [
    {
     "data": {
      "text/plain": [
       "8"
      ]
     },
     "execution_count": 15,
     "metadata": {},
     "output_type": "execute_result"
    }
   ],
   "source": [
    "pred_y[151]"
   ]
  },
  {
   "cell_type": "code",
   "execution_count": 16,
   "id": "582fb889",
   "metadata": {},
   "outputs": [
    {
     "data": {
      "text/plain": [
       "9"
      ]
     },
     "execution_count": 16,
     "metadata": {},
     "output_type": "execute_result"
    }
   ],
   "source": [
    "test_y[151]"
   ]
  },
  {
   "cell_type": "code",
   "execution_count": null,
   "id": "50157751",
   "metadata": {},
   "outputs": [],
   "source": []
  }
 ],
 "metadata": {
  "kernelspec": {
   "display_name": "Python 3 (ipykernel)",
   "language": "python",
   "name": "python3"
  },
  "language_info": {
   "codemirror_mode": {
    "name": "ipython",
    "version": 3
   },
   "file_extension": ".py",
   "mimetype": "text/x-python",
   "name": "python",
   "nbconvert_exporter": "python",
   "pygments_lexer": "ipython3",
   "version": "3.9.7"
  }
 },
 "nbformat": 4,
 "nbformat_minor": 5
}
