{
 "cells": [
  {
   "cell_type": "code",
   "execution_count": 1,
   "id": "55cc7478",
   "metadata": {},
   "outputs": [],
   "source": [
    "'''\n",
    "Modified from https://github.com/pytorch/vision.git\n",
    "'''\n",
    "import math\n",
    "\n",
    "import torch.nn as nn\n",
    "import torch.nn.init as init\n",
    "\n",
    "__all__ = [\n",
    "    'VGG', 'vgg11', 'vgg11_bn', 'vgg13', 'vgg13_bn', 'vgg16', 'vgg16_bn',\n",
    "    'vgg19_bn', 'vgg19',\n",
    "]\n",
    "\n",
    "\n",
    "class VGG(nn.Module):\n",
    "    '''\n",
    "    VGG model \n",
    "    '''\n",
    "    def __init__(self, features):\n",
    "        super(VGG, self).__init__()\n",
    "        self.features = features\n",
    "        self.classifier = nn.Sequential(\n",
    "            nn.Dropout(),\n",
    "            nn.Linear(512, 512),\n",
    "            nn.ReLU(True),\n",
    "            nn.Dropout(),\n",
    "            nn.Linear(512, 512),\n",
    "            nn.ReLU(True),\n",
    "            nn.Linear(512, 10),\n",
    "        )\n",
    "         # Initialize weights\n",
    "        for m in self.modules():\n",
    "            if isinstance(m, nn.Conv2d):\n",
    "                n = m.kernel_size[0] * m.kernel_size[1] * m.out_channels\n",
    "                m.weight.data.normal_(0, math.sqrt(2. / n))\n",
    "                m.bias.data.zero_()\n",
    "\n",
    "\n",
    "    def forward(self, x):\n",
    "        x = self.features(x)\n",
    "        x = x.view(x.size(0), -1)\n",
    "        x = self.classifier(x)\n",
    "        return x\n",
    "\n",
    "\n",
    "def make_layers(cfg, batch_norm=False):\n",
    "    layers = []\n",
    "    in_channels = 3\n",
    "    for v in cfg:\n",
    "        if v == 'M':\n",
    "            layers += [nn.MaxPool2d(kernel_size=2, stride=2)]\n",
    "        else:\n",
    "            conv2d = nn.Conv2d(in_channels, v, kernel_size=3, padding=1)\n",
    "            if batch_norm:\n",
    "                layers += [conv2d, nn.BatchNorm2d(v), nn.ReLU(inplace=True)]\n",
    "            else:\n",
    "                layers += [conv2d, nn.ReLU(inplace=True)]\n",
    "            in_channels = v\n",
    "    return nn.Sequential(*layers)\n",
    "\n",
    "\n",
    "cfg = {\n",
    "    'A': [64, 'M', 128, 'M', 256, 256, 'M', 512, 512, 'M', 512, 512, 'M'],\n",
    "    'B': [64, 64, 'M', 128, 128, 'M', 256, 256, 'M', 512, 512, 'M', 512, 512, 'M'],\n",
    "    'D': [64, 64, 'M', 128, 128, 'M', 256, 256, 256, 'M', 512, 512, 512, 'M', 512, 512, 512, 'M'],\n",
    "    'E': [64, 64, 'M', 128, 128, 'M', 256, 256, 256, 256, 'M', 512, 512, 512, 512, 'M', \n",
    "          512, 512, 512, 512, 'M'],\n",
    "}\n",
    "\n",
    "\n",
    "def vgg11():\n",
    "    \"\"\"VGG 11-layer model (configuration \"A\")\"\"\"\n",
    "    return VGG(make_layers(cfg['A']))\n",
    "net = vgg11()"
   ]
  },
  {
   "cell_type": "code",
   "execution_count": 2,
   "id": "4599ad5b",
   "metadata": {},
   "outputs": [
    {
     "name": "stderr",
     "output_type": "stream",
     "text": [
      "/usr/local/lib/python3.6/dist-packages/torchvision/datasets/mnist.py:58: UserWarning: train_data has been renamed data\n",
      "  warnings.warn(\"train_data has been renamed data\")\n",
      "/usr/local/lib/python3.6/dist-packages/torchvision/datasets/mnist.py:53: UserWarning: test_labels has been renamed targets\n",
      "  warnings.warn(\"test_labels has been renamed targets\")\n"
     ]
    }
   ],
   "source": [
    "#download mnist and #\n",
    "import torch\n",
    "import torch.nn as nn\n",
    "import torch.utils.data as Data\n",
    "import torchvision\n",
    "import matplotlib.pyplot as plt\n",
    "import os\n",
    "import cv2\n",
    "from torchvision import transforms\n",
    "\n",
    "EPOCH = 10  \n",
    "BATCH_SIZE = 200\n",
    "LR = 0.001  \n",
    "\n",
    "\n",
    "train_data = torchvision.datasets.MNIST(\n",
    "    root='./data/',  \n",
    "    train=True,  \n",
    "    transform=transforms.ToTensor(),\n",
    "    download=True,  \n",
    ")\n",
    "\n",
    "\n",
    "train_loader = Data.DataLoader(\n",
    "    dataset=train_data,\n",
    "    batch_size=BATCH_SIZE,\n",
    "    shuffle=True  \n",
    ")\n",
    "\n",
    "test_data = torchvision.datasets.MNIST(\n",
    "    root='./data/',\n",
    "    train=False,\n",
    ")\n",
    "\n",
    "test_x = torch.unsqueeze(test_data.train_data, dim=1).type(torch.FloatTensor)/255\n",
    "test_y = test_data.test_labels"
   ]
  },
  {
   "cell_type": "code",
   "execution_count": 3,
   "id": "be52cbca",
   "metadata": {},
   "outputs": [],
   "source": [
    "resize = transforms.Resize([32,32])\n",
    "test_x=resize(test_x)\n",
    "test_x = test_x.expand(-1, 3, -1, -1)"
   ]
  },
  {
   "cell_type": "code",
   "execution_count": 4,
   "id": "1d813b79",
   "metadata": {},
   "outputs": [
    {
     "data": {
      "text/plain": [
       "torch.Size([10000, 3, 32, 32])"
      ]
     },
     "execution_count": 4,
     "metadata": {},
     "output_type": "execute_result"
    }
   ],
   "source": [
    "test_x.shape"
   ]
  },
  {
   "cell_type": "code",
   "execution_count": 5,
   "id": "265441d5",
   "metadata": {},
   "outputs": [
    {
     "name": "stdout",
     "output_type": "stream",
     "text": [
      "Epoch:  0 | train loss: 2.2998 | test accuracy: 0.10\n",
      "Epoch:  0 | train loss: 1.8607 | test accuracy: 0.43\n",
      "Epoch:  0 | train loss: 0.3569 | test accuracy: 0.88\n",
      "Epoch:  0 | train loss: 0.2281 | test accuracy: 0.96\n",
      "Epoch:  0 | train loss: 0.1320 | test accuracy: 0.98\n",
      "Epoch:  0 | train loss: 0.0336 | test accuracy: 0.98\n",
      "Epoch 1 of 10 with 279.63 s\n",
      "Epoch:  1 | train loss: 0.0569 | test accuracy: 0.98\n",
      "Epoch:  1 | train loss: 0.0481 | test accuracy: 0.98\n",
      "Epoch:  1 | train loss: 0.0430 | test accuracy: 0.99\n",
      "Epoch:  1 | train loss: 0.0184 | test accuracy: 0.99\n",
      "Epoch:  1 | train loss: 0.0710 | test accuracy: 0.98\n",
      "Epoch:  1 | train loss: 0.0393 | test accuracy: 0.99\n",
      "Epoch 2 of 10 with 278.90 s\n",
      "Epoch:  2 | train loss: 0.0380 | test accuracy: 0.99\n",
      "Epoch:  2 | train loss: 0.0356 | test accuracy: 0.99\n",
      "Epoch:  2 | train loss: 0.0505 | test accuracy: 0.98\n",
      "Epoch:  2 | train loss: 0.0125 | test accuracy: 0.99\n",
      "Epoch:  2 | train loss: 0.0404 | test accuracy: 0.97\n",
      "Epoch:  2 | train loss: 0.0281 | test accuracy: 0.99\n",
      "Epoch 3 of 10 with 283.21 s\n",
      "Epoch:  3 | train loss: 0.0672 | test accuracy: 0.99\n",
      "Epoch:  3 | train loss: 0.0738 | test accuracy: 0.99\n",
      "Epoch:  3 | train loss: 0.0400 | test accuracy: 0.99\n",
      "Epoch:  3 | train loss: 0.0285 | test accuracy: 0.99\n",
      "Epoch:  3 | train loss: 0.0072 | test accuracy: 0.99\n",
      "Epoch:  3 | train loss: 0.0808 | test accuracy: 0.98\n",
      "Epoch 4 of 10 with 285.32 s\n",
      "Epoch:  4 | train loss: 0.0525 | test accuracy: 0.99\n",
      "Epoch:  4 | train loss: 0.0200 | test accuracy: 0.99\n",
      "Epoch:  4 | train loss: 0.0125 | test accuracy: 0.99\n",
      "Epoch:  4 | train loss: 0.0402 | test accuracy: 0.99\n",
      "Epoch:  4 | train loss: 0.0267 | test accuracy: 0.99\n",
      "Epoch:  4 | train loss: 0.0274 | test accuracy: 0.99\n",
      "Epoch 5 of 10 with 285.40 s\n",
      "Epoch:  5 | train loss: 0.0110 | test accuracy: 0.99\n",
      "Epoch:  5 | train loss: 0.1700 | test accuracy: 0.99\n",
      "Epoch:  5 | train loss: 0.0305 | test accuracy: 0.99\n",
      "Epoch:  5 | train loss: 0.0492 | test accuracy: 0.99\n",
      "Epoch:  5 | train loss: 0.0279 | test accuracy: 0.99\n",
      "Epoch:  5 | train loss: 0.1088 | test accuracy: 0.99\n",
      "Epoch 6 of 10 with 286.79 s\n",
      "Epoch:  6 | train loss: 0.0206 | test accuracy: 0.99\n",
      "Epoch:  6 | train loss: 0.0317 | test accuracy: 0.99\n",
      "Epoch:  6 | train loss: 0.0350 | test accuracy: 0.99\n",
      "Epoch:  6 | train loss: 0.0253 | test accuracy: 0.99\n",
      "Epoch:  6 | train loss: 0.1173 | test accuracy: 0.99\n",
      "Epoch:  6 | train loss: 0.0227 | test accuracy: 0.99\n",
      "Epoch 7 of 10 with 285.39 s\n",
      "Epoch:  7 | train loss: 0.0456 | test accuracy: 0.99\n",
      "Epoch:  7 | train loss: 0.1122 | test accuracy: 0.99\n",
      "Epoch:  7 | train loss: 0.0082 | test accuracy: 0.99\n",
      "Epoch:  7 | train loss: 0.0321 | test accuracy: 0.98\n",
      "Epoch:  7 | train loss: 0.0047 | test accuracy: 0.99\n",
      "Epoch:  7 | train loss: 0.0267 | test accuracy: 0.99\n",
      "Epoch 8 of 10 with 292.27 s\n",
      "Epoch:  8 | train loss: 0.0005 | test accuracy: 0.99\n",
      "Epoch:  8 | train loss: 0.0058 | test accuracy: 0.99\n",
      "Epoch:  8 | train loss: 0.0180 | test accuracy: 0.99\n",
      "Epoch:  8 | train loss: 0.0169 | test accuracy: 0.99\n",
      "Epoch:  8 | train loss: 0.0035 | test accuracy: 0.99\n",
      "Epoch:  8 | train loss: 0.0716 | test accuracy: 0.99\n",
      "Epoch 9 of 10 with 295.27 s\n",
      "Epoch:  9 | train loss: 0.0185 | test accuracy: 0.99\n",
      "Epoch:  9 | train loss: 0.0060 | test accuracy: 0.99\n",
      "Epoch:  9 | train loss: 0.0145 | test accuracy: 0.99\n",
      "Epoch:  9 | train loss: 0.0022 | test accuracy: 0.99\n",
      "Epoch:  9 | train loss: 0.0285 | test accuracy: 0.99\n",
      "Epoch:  9 | train loss: 0.0118 | test accuracy: 0.99\n",
      "Epoch 10 of 10 with 300.16 s\n"
     ]
    }
   ],
   "source": [
    "import time\n",
    "\n",
    "print_every_batch=50\n",
    "\n",
    "optimizer = torch.optim.Adam(net.parameters(), lr=LR)\n",
    "\n",
    "loss_func = nn.CrossEntropyLoss()  \n",
    "\n",
    "list_lost=[]\n",
    "list_accuracy=[]\n",
    "list_epoch_time=[]\n",
    "\n",
    "for epoch in range(EPOCH):\n",
    "    epoch_start_time = time.time()\n",
    "    for batch_id, (batch_x, batch_y) in enumerate(train_loader):\n",
    "        batch_x=resize(batch_x)\n",
    "        batch_x = batch_x.expand(-1, 3, -1, -1)\n",
    "        output = net(batch_x)  \n",
    "        loss = loss_func(output, batch_y)  \n",
    "        optimizer.zero_grad()  \n",
    "        loss.backward()  \n",
    "        optimizer.step()  \n",
    "\n",
    "        \n",
    "        if batch_id % print_every_batch == 0:\n",
    "            test_output = net(test_x)\n",
    "            pred_y = torch.max(test_output, 1)[1].data.numpy()\n",
    "            accuracy = float((pred_y == test_y.data.numpy()).astype(int).sum()) / float(test_y.size(0))\n",
    "            print('Epoch: ', epoch, '| train loss: %.4f' % loss.data.numpy(), '| test accuracy: %.2f' % accuracy)\n",
    "            list_lost.append(loss.data.numpy())\n",
    "            list_accuracy.append(accuracy)\n",
    "            \n",
    "    epoch_end_time = time.time()\n",
    "    per_epoch_ptime = epoch_end_time - epoch_start_time\n",
    "\n",
    "    print(\"Epoch %d of %d with %.2f s\" % (epoch + 1, EPOCH, per_epoch_ptime))\n",
    "    list_epoch_time.append(per_epoch_ptime)"
   ]
  },
  {
   "cell_type": "code",
   "execution_count": 6,
   "id": "395f3c35",
   "metadata": {},
   "outputs": [],
   "source": [
    "import numpy as np\n",
    "lost_array=np.array(list_lost)\n",
    "list_accuracy=np.array(list_accuracy)\n",
    "list_epoch_time=np.array(list_epoch_time)"
   ]
  },
  {
   "cell_type": "code",
   "execution_count": 7,
   "id": "1621570e",
   "metadata": {},
   "outputs": [
    {
     "data": {
      "text/plain": [
       "[<matplotlib.lines.Line2D at 0x7f6f79ce1048>]"
      ]
     },
     "execution_count": 7,
     "metadata": {},
     "output_type": "execute_result"
    },
    {
     "data": {
      "image/png": "[encoded data removed]",
      "text/plain": [
       "<Figure size 432x288 with 1 Axes>"
      ]
     },
     "metadata": {
      "needs_background": "light"
     },
     "output_type": "display_data"
    }
   ],
   "source": [
    "plt.plot(np.array(list(range(1,61)))/6,lost_array)"
   ]
  },
  {
   "cell_type": "code",
   "execution_count": 8,
   "id": "4af727e0",
   "metadata": {},
   "outputs": [
    {
     "data": {
      "text/plain": [
       "[<matplotlib.lines.Line2D at 0x7f6f79bb6710>]"
      ]
     },
     "execution_count": 8,
     "metadata": {},
     "output_type": "execute_result"
    },
    {
     "data": {
      "image/png": "[encoded data removed]",
      "text/plain": [
       "<Figure size 432x288 with 1 Axes>"
      ]
     },
     "metadata": {
      "needs_background": "light"
     },
     "output_type": "display_data"
    }
   ],
   "source": [
    "plt.plot(np.array(list(range(1,61)))/6,list_accuracy)"
   ]
  },
  {
   "cell_type": "code",
   "execution_count": 9,
   "id": "a7b41376",
   "metadata": {},
   "outputs": [
    {
     "data": {
      "text/plain": [
       "287.233229136467"
      ]
     },
     "execution_count": 9,
     "metadata": {},
     "output_type": "execute_result"
    }
   ],
   "source": [
    "sum(list_epoch_time)/10"
   ]
  },
  {
   "cell_type": "code",
   "execution_count": 10,
   "id": "a6efe81a",
   "metadata": {},
   "outputs": [],
   "source": [
    "torch.save(net, \"vgg.pth\")  "
   ]
  },
  {
   "cell_type": "code",
   "execution_count": 11,
   "id": "946bca95",
   "metadata": {},
   "outputs": [
    {
     "name": "stdout",
     "output_type": "stream",
     "text": [
      "VGG(\n",
      "  (features): Sequential(\n",
      "    (0): Conv2d(3, 64, kernel_size=(3, 3), stride=(1, 1), padding=(1, 1))\n",
      "    (1): ReLU(inplace=True)\n",
      "    (2): MaxPool2d(kernel_size=2, stride=2, padding=0, dilation=1, ceil_mode=False)\n",
      "    (3): Conv2d(64, 128, kernel_size=(3, 3), stride=(1, 1), padding=(1, 1))\n",
      "    (4): ReLU(inplace=True)\n",
      "    (5): MaxPool2d(kernel_size=2, stride=2, padding=0, dilation=1, ceil_mode=False)\n",
      "    (6): Conv2d(128, 256, kernel_size=(3, 3), stride=(1, 1), padding=(1, 1))\n",
      "    (7): ReLU(inplace=True)\n",
      "    (8): Conv2d(256, 256, kernel_size=(3, 3), stride=(1, 1), padding=(1, 1))\n",
      "    (9): ReLU(inplace=True)\n",
      "    (10): MaxPool2d(kernel_size=2, stride=2, padding=0, dilation=1, ceil_mode=False)\n",
      "    (11): Conv2d(256, 512, kernel_size=(3, 3), stride=(1, 1), padding=(1, 1))\n",
      "    (12): ReLU(inplace=True)\n",
      "    (13): Conv2d(512, 512, kernel_size=(3, 3), stride=(1, 1), padding=(1, 1))\n",
      "    (14): ReLU(inplace=True)\n",
      "    (15): MaxPool2d(kernel_size=2, stride=2, padding=0, dilation=1, ceil_mode=False)\n",
      "    (16): Conv2d(512, 512, kernel_size=(3, 3), stride=(1, 1), padding=(1, 1))\n",
      "    (17): ReLU(inplace=True)\n",
      "    (18): Conv2d(512, 512, kernel_size=(3, 3), stride=(1, 1), padding=(1, 1))\n",
      "    (19): ReLU(inplace=True)\n",
      "    (20): MaxPool2d(kernel_size=2, stride=2, padding=0, dilation=1, ceil_mode=False)\n",
      "  )\n",
      "  (classifier): Sequential(\n",
      "    (0): Dropout(p=0.5, inplace=False)\n",
      "    (1): Linear(in_features=512, out_features=512, bias=True)\n",
      "    (2): ReLU(inplace=True)\n",
      "    (3): Dropout(p=0.5, inplace=False)\n",
      "    (4): Linear(in_features=512, out_features=512, bias=True)\n",
      "    (5): ReLU(inplace=True)\n",
      "    (6): Linear(in_features=512, out_features=10, bias=True)\n",
      "  )\n",
      ")\n"
     ]
    }
   ],
   "source": [
    "model = torch.load(\"vgg.pth\")\n",
    "print(model)"
   ]
  },
  {
   "cell_type": "code",
   "execution_count": 12,
   "id": "aab000b2",
   "metadata": {},
   "outputs": [
    {
     "name": "stdout",
     "output_type": "stream",
     "text": [
      "Epoch:  9 | train loss: 0.0919 | test accuracy: 0.99\n"
     ]
    }
   ],
   "source": [
    "test_output = model(test_x)\n",
    "pred_y = torch.max(test_output, 1)[1].data.numpy()\n",
    "accuracy = float((pred_y == test_y.data.numpy()).astype(int).sum()) / float(test_y.size(0))\n",
    "print('Epoch: ', epoch, '| train loss: %.4f' % loss.data.numpy(), '| test accuracy: %.2f' % accuracy)"
   ]
  },
  {
   "cell_type": "code",
   "execution_count": 13,
   "id": "6ce2f45d",
   "metadata": {},
   "outputs": [],
   "source": [
    "pred_y=pred_y.tolist()\n",
    "test_y=test_y.tolist()"
   ]
  },
  {
   "cell_type": "code",
   "execution_count": 14,
   "id": "c2ffc662",
   "metadata": {},
   "outputs": [
    {
     "name": "stdout",
     "output_type": "stream",
     "text": [
      "62\n",
      "115\n",
      "321\n",
      "445\n",
      "449\n",
      "495\n",
      "659\n",
      "674\n",
      "726\n",
      "728\n",
      "738\n",
      "900\n",
      "938\n",
      "965\n"
     ]
    }
   ],
   "source": [
    "for i in range(1000):\n",
    "    \n",
    "    if pred_y[i]!=test_y[i]:\n",
    "        print(i)"
   ]
  },
  {
   "cell_type": "code",
   "execution_count": 15,
   "id": "ac31c294",
   "metadata": {},
   "outputs": [
    {
     "data": {
      "text/plain": [
       "<matplotlib.image.AxesImage at 0x7f6f79c05c50>"
      ]
     },
     "execution_count": 15,
     "metadata": {},
     "output_type": "execute_result"
    },
    {
     "data": {
      "image/png": "[encoded data removed]",
      "text/plain": [
       "<Figure size 432x288 with 1 Axes>"
      ]
     },
     "metadata": {
      "needs_background": "light"
     },
     "output_type": "display_data"
    }
   ],
   "source": [
    "plt.imshow(test_x[321,0,:,:],cmap='gray')"
   ]
  },
  {
   "cell_type": "code",
   "execution_count": 16,
   "id": "7e4da3b6",
   "metadata": {},
   "outputs": [
    {
     "data": {
      "text/plain": [
       "7"
      ]
     },
     "execution_count": 16,
     "metadata": {},
     "output_type": "execute_result"
    }
   ],
   "source": [
    "pred_y[321]"
   ]
  },
  {
   "cell_type": "code",
   "execution_count": 17,
   "id": "582fb889",
   "metadata": {},
   "outputs": [
    {
     "data": {
      "text/plain": [
       "2"
      ]
     },
     "execution_count": 17,
     "metadata": {},
     "output_type": "execute_result"
    }
   ],
   "source": [
    "test_y[321]"
   ]
  },
  {
   "cell_type": "code",
   "execution_count": null,
   "id": "50157751",
   "metadata": {},
   "outputs": [],
   "source": []
  }
 ],
 "metadata": {
  "kernelspec": {
   "display_name": "Python 3 (ipykernel)",
   "language": "python",
   "name": "python3"
  },
  "language_info": {
   "codemirror_mode": {
    "name": "ipython",
    "version": 3
   },
   "file_extension": ".py",
   "mimetype": "text/x-python",
   "name": "python",
   "nbconvert_exporter": "python",
   "pygments_lexer": "ipython3",
   "version": "3.9.7"
  }
 },
 "nbformat": 4,
 "nbformat_minor": 5
}
