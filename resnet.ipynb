{
 "cells": [
  {
   "cell_type": "code",
   "execution_count": 1,
   "id": "55cc7478",
   "metadata": {},
   "outputs": [],
   "source": [
    "import torch\n",
    "from torch import nn\n",
    "from torch.nn import functional as F\n",
    "\n",
    "class Basicblock(nn.Module):\n",
    "    def __init__(self, in_planes, planes, stride=1):\n",
    "        super(Basicblock, self).__init__()\n",
    "        self.conv1 = nn.Sequential(\n",
    "            nn.Conv2d(in_channels=in_planes, out_channels=planes, kernel_size=3, stride=stride, padding=1, bias=False),\n",
    "            nn.BatchNorm2d(planes),\n",
    "            nn.ReLU()\n",
    "        )\n",
    "        self.conv2 = nn.Sequential(\n",
    "            nn.Conv2d(in_channels=planes, out_channels=planes, kernel_size=3, stride=1, padding=1, bias=False),\n",
    "            nn.BatchNorm2d(planes),\n",
    "        )\n",
    "\n",
    "        if stride != 1 or in_planes != planes:\n",
    "            self.shortcut = nn.Sequential(\n",
    "                nn.Conv2d(in_channels=in_planes, out_channels=planes, kernel_size=3, stride=stride, padding=1),\n",
    "                nn.BatchNorm2d(planes)\n",
    "            )\n",
    "        else:\n",
    "            self.shortcut = nn.Sequential()\n",
    "\n",
    "    def forward(self, x):\n",
    "        out = self.conv1(x)\n",
    "        out = self.conv2(out)\n",
    "        out += self.shortcut(x)\n",
    "        out = F.relu(out)\n",
    "        return out\n",
    "class ResNet(nn.Module):\n",
    "    def __init__(self, block, num_block, num_classes):\n",
    "        super(ResNet, self).__init__()\n",
    "        self.in_planes = 16\n",
    "        self.conv1 = nn.Sequential(\n",
    "            nn.Conv2d(in_channels=1, out_channels=16, kernel_size=3, stride=1, padding=1),\n",
    "            nn.BatchNorm2d(16),\n",
    "            nn.ReLU()\n",
    "        )\n",
    "        self.maxpool = nn.MaxPool2d(kernel_size=3, stride=1, padding=1)\n",
    "\n",
    "        self.block1 = self._make_layer(block, 16, num_block[0], stride=1)\n",
    "        self.block2 = self._make_layer(block, 32, num_block[1], stride=2)\n",
    "        self.block3 = self._make_layer(block, 64, num_block[2], stride=2)\n",
    "        # self.block4 = self._make_layer(block, 512, num_block[3], stride=2)\n",
    "\n",
    "        self.outlayer = nn.Linear(64, num_classes)\n",
    "\n",
    "    def _make_layer(self, block, planes, num_block, stride):\n",
    "        layers = []\n",
    "        for i in range(num_block):\n",
    "            if i == 0:\n",
    "                layers.append(block(self.in_planes, planes, stride))\n",
    "            else:\n",
    "                layers.append(block(planes, planes, 1))\n",
    "        self.in_planes = planes\n",
    "        return nn.Sequential(*layers)\n",
    "\n",
    "    def forward(self, x):\n",
    "        x = self.maxpool(self.conv1(x))\n",
    "        x = self.block1(x)                       # [200, 64, 28, 28]\n",
    "        x = self.block2(x)                       # [200, 128, 14, 14]\n",
    "        x = self.block3(x)                       # [200, 256, 7, 7]\n",
    "        # out = self.block4(out)\n",
    "        x = F.avg_pool2d(x, 7)                   # [200, 256, 1, 1]\n",
    "        x = x.view(x.size(0), -1)                # [200,256]\n",
    "        out = self.outlayer(x)\n",
    "        return out\n",
    "\n",
    "net = ResNet(Basicblock, [1, 1, 1, 1], 10)"
   ]
  },
  {
   "cell_type": "code",
   "execution_count": 1,
   "id": "4599ad5b",
   "metadata": {},
   "outputs": [
    {
     "name": "stderr",
     "output_type": "stream",
     "text": [
      "D:\\anaconda\\lib\\site-packages\\torchvision\\datasets\\mnist.py:62: UserWarning: train_data has been renamed data\n",
      "  warnings.warn(\"train_data has been renamed data\")\n",
      "D:\\anaconda\\lib\\site-packages\\torchvision\\datasets\\mnist.py:57: UserWarning: test_labels has been renamed targets\n",
      "  warnings.warn(\"test_labels has been renamed targets\")\n"
     ]
    }
   ],
   "source": [
    "#download mnist and #\n",
    "import torch\n",
    "import torch.nn as nn\n",
    "import torch.utils.data as Data\n",
    "import torchvision\n",
    "import matplotlib.pyplot as plt\n",
    "import os\n",
    "import cv2\n",
    "\n",
    "EPOCH = 10  \n",
    "BATCH_SIZE = 200\n",
    "LR = 0.001  \n",
    "\n",
    "\n",
    "train_data = torchvision.datasets.MNIST(\n",
    "    root='./data/',  \n",
    "    train=True,  \n",
    "    transform=torchvision.transforms.ToTensor(),  \n",
    "    download=True,  \n",
    ")\n",
    "\n",
    "train_loader = Data.DataLoader(\n",
    "    dataset=train_data,\n",
    "    batch_size=BATCH_SIZE,\n",
    "    shuffle=True  \n",
    ")\n",
    "\n",
    "test_data = torchvision.datasets.MNIST(\n",
    "    root='./data/',\n",
    "    train=False\n",
    ")\n",
    "\n",
    "test_x = torch.unsqueeze(test_data.train_data, dim=1).type(torch.FloatTensor)/255\n",
    "test_y = test_data.test_labels"
   ]
  },
  {
   "cell_type": "code",
   "execution_count": 3,
   "id": "265441d5",
   "metadata": {},
   "outputs": [
    {
     "name": "stdout",
     "output_type": "stream",
     "text": [
      "Epoch:  0 | train loss: 2.3746 | test accuracy: 0.18\n",
      "Epoch:  0 | train loss: 0.6309 | test accuracy: 0.93\n",
      "Epoch:  0 | train loss: 0.2469 | test accuracy: 0.96\n",
      "Epoch:  0 | train loss: 0.1719 | test accuracy: 0.97\n",
      "Epoch:  0 | train loss: 0.0799 | test accuracy: 0.98\n",
      "Epoch:  0 | train loss: 0.1109 | test accuracy: 0.98\n",
      "Epoch 1 of 10 with 55.07 s\n",
      "Epoch:  1 | train loss: 0.1018 | test accuracy: 0.98\n",
      "Epoch:  1 | train loss: 0.0683 | test accuracy: 0.99\n",
      "Epoch:  1 | train loss: 0.0704 | test accuracy: 0.99\n",
      "Epoch:  1 | train loss: 0.0512 | test accuracy: 0.99\n",
      "Epoch:  1 | train loss: 0.0382 | test accuracy: 0.99\n",
      "Epoch:  1 | train loss: 0.0348 | test accuracy: 0.99\n",
      "Epoch 2 of 10 with 55.05 s\n",
      "Epoch:  2 | train loss: 0.0434 | test accuracy: 0.99\n",
      "Epoch:  2 | train loss: 0.0615 | test accuracy: 0.99\n",
      "Epoch:  2 | train loss: 0.0254 | test accuracy: 0.99\n",
      "Epoch:  2 | train loss: 0.0229 | test accuracy: 0.99\n",
      "Epoch:  2 | train loss: 0.0380 | test accuracy: 0.99\n",
      "Epoch:  2 | train loss: 0.0193 | test accuracy: 0.99\n",
      "Epoch 3 of 10 with 55.55 s\n",
      "Epoch:  3 | train loss: 0.0289 | test accuracy: 0.99\n",
      "Epoch:  3 | train loss: 0.0417 | test accuracy: 0.99\n",
      "Epoch:  3 | train loss: 0.0517 | test accuracy: 0.99\n",
      "Epoch:  3 | train loss: 0.0421 | test accuracy: 0.99\n",
      "Epoch:  3 | train loss: 0.0214 | test accuracy: 0.99\n",
      "Epoch:  3 | train loss: 0.0437 | test accuracy: 0.99\n",
      "Epoch 4 of 10 with 55.03 s\n",
      "Epoch:  4 | train loss: 0.0164 | test accuracy: 0.99\n",
      "Epoch:  4 | train loss: 0.0213 | test accuracy: 0.99\n",
      "Epoch:  4 | train loss: 0.0076 | test accuracy: 0.99\n",
      "Epoch:  4 | train loss: 0.0375 | test accuracy: 0.99\n",
      "Epoch:  4 | train loss: 0.0412 | test accuracy: 0.99\n",
      "Epoch:  4 | train loss: 0.0244 | test accuracy: 0.99\n",
      "Epoch 5 of 10 with 55.02 s\n",
      "Epoch:  5 | train loss: 0.0220 | test accuracy: 0.99\n",
      "Epoch:  5 | train loss: 0.0183 | test accuracy: 0.99\n",
      "Epoch:  5 | train loss: 0.0223 | test accuracy: 0.99\n",
      "Epoch:  5 | train loss: 0.0088 | test accuracy: 0.99\n",
      "Epoch:  5 | train loss: 0.0236 | test accuracy: 0.99\n",
      "Epoch:  5 | train loss: 0.0122 | test accuracy: 0.99\n",
      "Epoch 6 of 10 with 55.09 s\n",
      "Epoch:  6 | train loss: 0.0104 | test accuracy: 0.99\n",
      "Epoch:  6 | train loss: 0.0162 | test accuracy: 0.99\n",
      "Epoch:  6 | train loss: 0.0168 | test accuracy: 0.99\n",
      "Epoch:  6 | train loss: 0.0245 | test accuracy: 0.99\n",
      "Epoch:  6 | train loss: 0.0189 | test accuracy: 0.99\n",
      "Epoch:  6 | train loss: 0.0119 | test accuracy: 0.99\n",
      "Epoch 7 of 10 with 55.50 s\n",
      "Epoch:  7 | train loss: 0.0120 | test accuracy: 0.99\n",
      "Epoch:  7 | train loss: 0.0061 | test accuracy: 0.99\n",
      "Epoch:  7 | train loss: 0.0303 | test accuracy: 0.99\n",
      "Epoch:  7 | train loss: 0.0128 | test accuracy: 0.99\n",
      "Epoch:  7 | train loss: 0.0377 | test accuracy: 0.99\n",
      "Epoch:  7 | train loss: 0.0232 | test accuracy: 0.99\n",
      "Epoch 8 of 10 with 54.90 s\n",
      "Epoch:  8 | train loss: 0.0374 | test accuracy: 0.99\n",
      "Epoch:  8 | train loss: 0.0279 | test accuracy: 0.99\n",
      "Epoch:  8 | train loss: 0.0184 | test accuracy: 0.99\n",
      "Epoch:  8 | train loss: 0.0049 | test accuracy: 0.99\n",
      "Epoch:  8 | train loss: 0.0061 | test accuracy: 0.99\n",
      "Epoch:  8 | train loss: 0.0028 | test accuracy: 0.99\n",
      "Epoch 9 of 10 with 55.52 s\n",
      "Epoch:  9 | train loss: 0.0087 | test accuracy: 0.99\n",
      "Epoch:  9 | train loss: 0.0072 | test accuracy: 0.99\n",
      "Epoch:  9 | train loss: 0.0204 | test accuracy: 0.99\n",
      "Epoch:  9 | train loss: 0.0035 | test accuracy: 0.99\n",
      "Epoch:  9 | train loss: 0.0239 | test accuracy: 0.99\n",
      "Epoch:  9 | train loss: 0.0151 | test accuracy: 0.99\n",
      "Epoch 10 of 10 with 55.06 s\n"
     ]
    }
   ],
   "source": [
    "import time\n",
    "\n",
    "print_every_batch=50\n",
    "\n",
    "optimizer = torch.optim.Adam(net.parameters(), lr=LR)\n",
    "\n",
    "loss_func = nn.CrossEntropyLoss()  \n",
    "\n",
    "list_lost=[]\n",
    "list_accuracy=[]\n",
    "list_epoch_time=[]\n",
    "\n",
    "for epoch in range(EPOCH):\n",
    "    epoch_start_time = time.time()\n",
    "    for batch_id, (batch_x, batch_y) in enumerate(train_loader):  \n",
    "        output = net(batch_x)  \n",
    "        loss = loss_func(output, batch_y)  \n",
    "        optimizer.zero_grad()  \n",
    "        loss.backward()  \n",
    "        optimizer.step()  \n",
    "\n",
    "        \n",
    "        if batch_id % print_every_batch == 0:\n",
    "            test_output = net(test_x)\n",
    "            pred_y = torch.max(test_output, 1)[1].data.numpy()\n",
    "            accuracy = float((pred_y == test_y.data.numpy()).astype(int).sum()) / float(test_y.size(0))\n",
    "            print('Epoch: ', epoch, '| train loss: %.4f' % loss.data.numpy(), '| test accuracy: %.2f' % accuracy)\n",
    "            list_lost.append(loss.data.numpy())\n",
    "            list_accuracy.append(accuracy)\n",
    "            \n",
    "    epoch_end_time = time.time()\n",
    "    per_epoch_ptime = epoch_end_time - epoch_start_time\n",
    "\n",
    "    print(\"Epoch %d of %d with %.2f s\" % (epoch + 1, EPOCH, per_epoch_ptime))\n",
    "    list_epoch_time.append(per_epoch_ptime)"
   ]
  },
  {
   "cell_type": "code",
   "execution_count": 4,
   "id": "395f3c35",
   "metadata": {},
   "outputs": [],
   "source": [
    "import numpy as np\n",
    "lost_array=np.array(list_lost)\n",
    "list_accuracy=np.array(list_accuracy)\n",
    "list_epoch_time=np.array(list_epoch_time)"
   ]
  },
  {
   "cell_type": "code",
   "execution_count": 5,
   "id": "1621570e",
   "metadata": {},
   "outputs": [
    {
     "data": {
      "text/plain": [
       "[<matplotlib.lines.Line2D at 0x7fe0db085f98>]"
      ]
     },
     "execution_count": 5,
     "metadata": {},
     "output_type": "execute_result"
    },
    {
     "data": {
      "image/png": "[encoded data removed]",
      "text/plain": [
       "<Figure size 432x288 with 1 Axes>"
      ]
     },
     "metadata": {
      "needs_background": "light"
     },
     "output_type": "display_data"
    }
   ],
   "source": [
    "plt.plot(np.array(list(range(1,61)))/6,lost_array)"
   ]
  },
  {
   "cell_type": "code",
   "execution_count": 6,
   "id": "4af727e0",
   "metadata": {},
   "outputs": [
    {
     "data": {
      "text/plain": [
       "[<matplotlib.lines.Line2D at 0x7fe0db1737f0>]"
      ]
     },
     "execution_count": 6,
     "metadata": {},
     "output_type": "execute_result"
    },
    {
     "data": {
      "image/png": "[encoded data removed]",
      "text/plain": [
       "<Figure size 432x288 with 1 Axes>"
      ]
     },
     "metadata": {
      "needs_background": "light"
     },
     "output_type": "display_data"
    }
   ],
   "source": [
    "plt.plot(np.array(list(range(1,61)))/6,list_accuracy)"
   ]
  },
  {
   "cell_type": "code",
   "execution_count": 7,
   "id": "a7b41376",
   "metadata": {},
   "outputs": [
    {
     "data": {
      "text/plain": [
       "55.179085445404056"
      ]
     },
     "execution_count": 7,
     "metadata": {},
     "output_type": "execute_result"
    }
   ],
   "source": [
    "sum(list_epoch_time)/10"
   ]
  },
  {
   "cell_type": "code",
   "execution_count": 8,
   "id": "a6efe81a",
   "metadata": {},
   "outputs": [],
   "source": [
    "torch.save(net, \"resnet.pth\")  "
   ]
  },
  {
   "cell_type": "code",
   "execution_count": 9,
   "id": "946bca95",
   "metadata": {},
   "outputs": [
    {
     "name": "stdout",
     "output_type": "stream",
     "text": [
      "ResNet(\n",
      "  (conv1): Sequential(\n",
      "    (0): Conv2d(1, 16, kernel_size=(3, 3), stride=(1, 1), padding=(1, 1))\n",
      "    (1): BatchNorm2d(16, eps=1e-05, momentum=0.1, affine=True, track_running_stats=True)\n",
      "    (2): ReLU()\n",
      "  )\n",
      "  (maxpool): MaxPool2d(kernel_size=3, stride=1, padding=1, dilation=1, ceil_mode=False)\n",
      "  (block1): Sequential(\n",
      "    (0): Basicblock(\n",
      "      (conv1): Sequential(\n",
      "        (0): Conv2d(16, 16, kernel_size=(3, 3), stride=(1, 1), padding=(1, 1), bias=False)\n",
      "        (1): BatchNorm2d(16, eps=1e-05, momentum=0.1, affine=True, track_running_stats=True)\n",
      "        (2): ReLU()\n",
      "      )\n",
      "      (conv2): Sequential(\n",
      "        (0): Conv2d(16, 16, kernel_size=(3, 3), stride=(1, 1), padding=(1, 1), bias=False)\n",
      "        (1): BatchNorm2d(16, eps=1e-05, momentum=0.1, affine=True, track_running_stats=True)\n",
      "      )\n",
      "      (shortcut): Sequential()\n",
      "    )\n",
      "  )\n",
      "  (block2): Sequential(\n",
      "    (0): Basicblock(\n",
      "      (conv1): Sequential(\n",
      "        (0): Conv2d(16, 32, kernel_size=(3, 3), stride=(2, 2), padding=(1, 1), bias=False)\n",
      "        (1): BatchNorm2d(32, eps=1e-05, momentum=0.1, affine=True, track_running_stats=True)\n",
      "        (2): ReLU()\n",
      "      )\n",
      "      (conv2): Sequential(\n",
      "        (0): Conv2d(32, 32, kernel_size=(3, 3), stride=(1, 1), padding=(1, 1), bias=False)\n",
      "        (1): BatchNorm2d(32, eps=1e-05, momentum=0.1, affine=True, track_running_stats=True)\n",
      "      )\n",
      "      (shortcut): Sequential(\n",
      "        (0): Conv2d(16, 32, kernel_size=(3, 3), stride=(2, 2), padding=(1, 1))\n",
      "        (1): BatchNorm2d(32, eps=1e-05, momentum=0.1, affine=True, track_running_stats=True)\n",
      "      )\n",
      "    )\n",
      "  )\n",
      "  (block3): Sequential(\n",
      "    (0): Basicblock(\n",
      "      (conv1): Sequential(\n",
      "        (0): Conv2d(32, 64, kernel_size=(3, 3), stride=(2, 2), padding=(1, 1), bias=False)\n",
      "        (1): BatchNorm2d(64, eps=1e-05, momentum=0.1, affine=True, track_running_stats=True)\n",
      "        (2): ReLU()\n",
      "      )\n",
      "      (conv2): Sequential(\n",
      "        (0): Conv2d(64, 64, kernel_size=(3, 3), stride=(1, 1), padding=(1, 1), bias=False)\n",
      "        (1): BatchNorm2d(64, eps=1e-05, momentum=0.1, affine=True, track_running_stats=True)\n",
      "      )\n",
      "      (shortcut): Sequential(\n",
      "        (0): Conv2d(32, 64, kernel_size=(3, 3), stride=(2, 2), padding=(1, 1))\n",
      "        (1): BatchNorm2d(64, eps=1e-05, momentum=0.1, affine=True, track_running_stats=True)\n",
      "      )\n",
      "    )\n",
      "  )\n",
      "  (outlayer): Linear(in_features=64, out_features=10, bias=True)\n",
      ")\n"
     ]
    }
   ],
   "source": [
    "model = torch.load(\"resnet.pth\")\n",
    "print(model)"
   ]
  },
  {
   "cell_type": "code",
   "execution_count": 10,
   "id": "aab000b2",
   "metadata": {},
   "outputs": [
    {
     "name": "stdout",
     "output_type": "stream",
     "text": [
      "Epoch:  9 | train loss: 0.0045 | test accuracy: 0.99\n"
     ]
    }
   ],
   "source": [
    "test_output = model(test_x)\n",
    "pred_y = torch.max(test_output, 1)[1].data.numpy()\n",
    "accuracy = float((pred_y == test_y.data.numpy()).astype(int).sum()) / float(test_y.size(0))\n",
    "print('Epoch: ', epoch, '| train loss: %.4f' % loss.data.numpy(), '| test accuracy: %.2f' % accuracy)"
   ]
  },
  {
   "cell_type": "code",
   "execution_count": 11,
   "id": "6ce2f45d",
   "metadata": {},
   "outputs": [],
   "source": [
    "pred_y=pred_y.tolist()\n",
    "test_y=test_y.tolist()"
   ]
  },
  {
   "cell_type": "code",
   "execution_count": 12,
   "id": "c2ffc662",
   "metadata": {},
   "outputs": [
    {
     "name": "stdout",
     "output_type": "stream",
     "text": [
      "115\n",
      "340\n",
      "445\n",
      "582\n",
      "674\n",
      "726\n",
      "947\n"
     ]
    }
   ],
   "source": [
    "for i in range(1000):\n",
    "    \n",
    "    if pred_y[i]!=test_y[i]:\n",
    "        print(i)"
   ]
  },
  {
   "cell_type": "code",
   "execution_count": 13,
   "id": "ac31c294",
   "metadata": {},
   "outputs": [
    {
     "data": {
      "text/plain": [
       "<matplotlib.image.AxesImage at 0x7fe0db025710>"
      ]
     },
     "execution_count": 13,
     "metadata": {},
     "output_type": "execute_result"
    },
    {
     "data": {
      "image/png": "[encoded data removed]",
      "text/plain": [
       "<Figure size 432x288 with 1 Axes>"
      ]
     },
     "metadata": {
      "needs_background": "light"
     },
     "output_type": "display_data"
    }
   ],
   "source": [
    "plt.imshow(test_x[115,0,:,:],cmap='gray')"
   ]
  },
  {
   "cell_type": "code",
   "execution_count": 16,
   "id": "7e4da3b6",
   "metadata": {},
   "outputs": [
    {
     "data": {
      "text/plain": [
       "9"
      ]
     },
     "execution_count": 16,
     "metadata": {},
     "output_type": "execute_result"
    }
   ],
   "source": [
    "pred_y[115]"
   ]
  },
  {
   "cell_type": "code",
   "execution_count": 17,
   "id": "582fb889",
   "metadata": {},
   "outputs": [
    {
     "data": {
      "text/plain": [
       "4"
      ]
     },
     "execution_count": 17,
     "metadata": {},
     "output_type": "execute_result"
    }
   ],
   "source": [
    "test_y[115]"
   ]
  },
  {
   "cell_type": "code",
   "execution_count": 2,
   "id": "50157751",
   "metadata": {},
   "outputs": [
    {
     "data": {
      "text/plain": [
       "<matplotlib.image.AxesImage at 0x15656e21610>"
      ]
     },
     "execution_count": 2,
     "metadata": {},
     "output_type": "execute_result"
    },
    {
     "data": {
      "image/png": "[encoded data removed]",
      "text/plain": [
       "<Figure size 432x288 with 1 Axes>"
      ]
     },
     "metadata": {
      "needs_background": "light"
     },
     "output_type": "display_data"
    }
   ],
   "source": [
    "plt.imshow(test_x[1,0,:,:],cmap='gray')"
   ]
  },
  {
   "cell_type": "code",
   "execution_count": 3,
   "id": "53f4716a",
   "metadata": {},
   "outputs": [
    {
     "data": {
      "text/plain": [
       "<matplotlib.image.AxesImage at 0x15656f202e0>"
      ]
     },
     "execution_count": 3,
     "metadata": {},
     "output_type": "execute_result"
    },
    {
     "data": {
      "image/png": "[encoded data removed]",
      "text/plain": [
       "<Figure size 432x288 with 1 Axes>"
      ]
     },
     "metadata": {
      "needs_background": "light"
     },
     "output_type": "display_data"
    }
   ],
   "source": [
    "plt.imshow(test_x[2,0,:,:],cmap='gray')"
   ]
  },
  {
   "cell_type": "code",
   "execution_count": 4,
   "id": "20a080bd",
   "metadata": {},
   "outputs": [
    {
     "data": {
      "text/plain": [
       "<matplotlib.image.AxesImage at 0x15656f85df0>"
      ]
     },
     "execution_count": 4,
     "metadata": {},
     "output_type": "execute_result"
    },
    {
     "data": {
      "image/png": "[encoded data removed]",
      "text/plain": [
       "<Figure size 432x288 with 1 Axes>"
      ]
     },
     "metadata": {
      "needs_background": "light"
     },
     "output_type": "display_data"
    }
   ],
   "source": [
    "plt.imshow(test_x[3,0,:,:],cmap='gray')"
   ]
  },
  {
   "cell_type": "code",
   "execution_count": null,
   "id": "58f9d107",
   "metadata": {},
   "outputs": [],
   "source": []
  }
 ],
 "metadata": {
  "kernelspec": {
   "display_name": "Python 3 (ipykernel)",
   "language": "python",
   "name": "python3"
  },
  "language_info": {
   "codemirror_mode": {
    "name": "ipython",
    "version": 3
   },
   "file_extension": ".py",
   "mimetype": "text/x-python",
   "name": "python",
   "nbconvert_exporter": "python",
   "pygments_lexer": "ipython3",
   "version": "3.9.7"
  }
 },
 "nbformat": 4,
 "nbformat_minor": 5
}
